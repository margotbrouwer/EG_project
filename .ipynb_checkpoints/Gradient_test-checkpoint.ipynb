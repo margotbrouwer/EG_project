{
 "cells": [
  {
   "cell_type": "code",
   "execution_count": 1,
   "metadata": {},
   "outputs": [],
   "source": [
    "#!/usr/bin/python\n",
    "\n",
    "# Transforming discrete baryonic mass distributions to EG distributions\n",
    "\n",
    "# Import the necessary libraries\n",
    "import numpy as np\n",
    "import os\n",
    "\n",
    "from astropy.coordinates import SkyCoord\n",
    "from astropy import units as u\n",
    "from astropy.cosmology import LambdaCDM\n",
    "import astropy.io.fits as pyfits\n",
    "\n",
    "import modules_EG as utils\n",
    "\n",
    "from matplotlib import pyplot as plt\n",
    "from matplotlib.colors import LogNorm\n",
    "from matplotlib import gridspec\n",
    "from matplotlib import rc, rcParams\n",
    "\n",
    "%matplotlib notebook\n",
    "plt.rcParams['figure.dpi'] = 150\n",
    "\n",
    "import scipy.constants as const\n",
    "from scipy.integrate import cumtrapz, trapz, quad, dblquad\n",
    "from scipy.constants import codata\n",
    "D = codata.physical_constants\n",
    "\n",
    "import astropy.units as u\n",
    "import astropy.constants as const\n",
    "\n",
    "pi = np.pi\n",
    "inf = np.inf\n",
    "\n",
    "# Make use of TeX\n",
    "rc('text',usetex=True)\n",
    "\n",
    "# Change all fonts to 'Computer Modern'\n",
    "rc('font',**{'family':'serif','serif':['Computer Modern']})"
   ]
  },
  {
   "cell_type": "code",
   "execution_count": 4,
   "metadata": {},
   "outputs": [],
   "source": [
    "# Constants\n",
    "G = const.G.to('pc3 / (M_sun s2)').value\n",
    "c = const.c.to('pc/s').value\n",
    "#G = const.G.to('m3 / (kg s2)').value\n",
    "#c = const.c.to('m/s').value\n",
    "\n",
    "H0 = 100 * (u.km/u.s)/u.Mpc\n",
    "H0 = H0.to('s-1').value\n",
    "\n",
    "pc_to_m = 3.08567758e16\n",
    "\n",
    "# Creating the spherical distance bins\n",
    "nrbins = 1e2\n",
    "rmin = 0.03# * 1e6 # in pc\n",
    "rmax = 3# * 1e6 # in pc\n",
    "\n",
    "rbins = 10.**np.linspace(np.log10(rmin), np.log10(rmax), nrbins+1)\n",
    "#rbins = np.linspace(rmin, rmax, nrbins+1)\n",
    "dr = np.diff(rbins)\n",
    "rcenters = rbins[0:-1]+0.5*dr"
   ]
  },
  {
   "cell_type": "code",
   "execution_count": 5,
   "metadata": {},
   "outputs": [
    {
     "name": "stdout",
     "output_type": "stream",
     "text": [
      "[1. 1. 1. 1. 1. 1. 1. 1. 1. 1. 1. 1. 1. 1. 1. 1. 1. 1. 1. 1. 1. 1. 1. 1.\n",
      " 1. 1. 1. 1. 1. 1. 1. 1. 1. 1. 1. 1. 1. 1. 1. 1. 1. 1. 1. 1. 1. 1. 1. 1.\n",
      " 1. 1. 1. 1. 1. 1. 1. 1. 1. 1. 1. 1. 1. 1. 1. 1. 1. 1. 1. 1. 1. 1. 1. 1.\n",
      " 1. 1. 1. 1. 1. 1. 1. 1. 1. 1. 1. 1. 1. 1. 1. 1. 1. 1. 1. 1. 1. 1. 1. 1.\n",
      " 1. 1. 1. 1.]\n"
     ]
    }
   ],
   "source": [
    "y = rcenters\n",
    "dydr = np.gradient(y, rcenters)\n",
    "\n",
    "#print(rcenters)\n",
    "#print(y)\n",
    "print(dydr)"
   ]
  },
  {
   "cell_type": "code",
   "execution_count": 8,
   "metadata": {},
   "outputs": [
    {
     "data": {
      "image/png": "[encoded data removed]",
      "text/plain": [
       "<Figure size 432x288 with 1 Axes>"
      ]
     },
     "metadata": {
      "needs_background": "light"
     },
     "output_type": "display_data"
    }
   ],
   "source": [
    "plt.xscale('log')\n",
    "plt.yscale('log')\n",
    "\n",
    "plt.plot(rcenters, y)\n",
    "plt.plot(rcenters, dydr)\n",
    "\n",
    "plt.show()"
   ]
  },
  {
   "cell_type": "code",
   "execution_count": null,
   "metadata": {},
   "outputs": [],
   "source": [
    "xbins = np.linspace(0,10,11)\n",
    "y = xbins**2.\n",
    "dydx_num = np.gradient(y, xbins)#, edge_order=2)\n",
    "print(dydx_num)\n",
    "\n",
    "dydx_an = 2*xbins\n",
    "\n",
    "plt.plot(xbins, y)\n",
    "plt.plot(xbins, dydx_num)\n",
    "#plt.plot(x, dydx_an)\n",
    "plt.show()"
   ]
  },
  {
   "cell_type": "code",
   "execution_count": 9,
   "metadata": {},
   "outputs": [
    {
     "data": {
      "text/plain": [
       "array([0., 2., 4., 6., 8.])"
      ]
     },
     "execution_count": 9,
     "metadata": {},
     "output_type": "execute_result"
    }
   ],
   "source": [
    "x = np.array([0, 1, 2, 3, 4])\n",
    "y = x**2\n",
    "np.gradient(y, x, edge_order=2)\n"
   ]
  },
  {
   "cell_type": "code",
   "execution_count": null,
   "metadata": {},
   "outputs": [],
   "source": []
  },
  {
   "cell_type": "code",
   "execution_count": null,
   "metadata": {},
   "outputs": [],
   "source": []
  }
 ],
 "metadata": {
  "kernelspec": {
   "display_name": "Python 3",
   "language": "python",
   "name": "python3"
  },
  "language_info": {
   "codemirror_mode": {
    "name": "ipython",
    "version": 3
   },
   "file_extension": ".py",
   "mimetype": "text/x-python",
   "name": "python",
   "nbconvert_exporter": "python",
   "pygments_lexer": "ipython3",
   "version": "3.5.2"
  }
 },
 "nbformat": 4,
 "nbformat_minor": 2
}
