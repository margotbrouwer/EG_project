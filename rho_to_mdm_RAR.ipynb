{
 "cells": [
  {
   "cell_type": "code",
   "execution_count": 1,
   "metadata": {},
   "outputs": [],
   "source": [
    "# Transforming discrete baryonic mass distributions to EG distributions\n",
    "\n",
    "#!/usr/bin/python\n",
    "\n",
    "# Import the necessary libraries\n",
    "import numpy as np\n",
    "import os\n",
    "\n",
    "from astropy.coordinates import SkyCoord\n",
    "from astropy import units as u\n",
    "from astropy.cosmology import LambdaCDM\n",
    "import astropy.io.fits as pyfits\n",
    "\n",
    "import modules_EG as utils\n",
    "\n",
    "from matplotlib import pyplot as plt\n",
    "from matplotlib.colors import LogNorm\n",
    "from matplotlib import gridspec\n",
    "from matplotlib import rc, rcParams\n",
    "\n",
    "%matplotlib notebook\n",
    "#plt.rcParams['figure.dpi'] = 150\n",
    "\n",
    "import scipy.constants as const\n",
    "from scipy.integrate import cumtrapz, trapz, quad, dblquad\n",
    "from scipy.constants import codata\n",
    "D = codata.physical_constants\n",
    "\n",
    "import astropy.units as u\n",
    "import astropy.constants as const\n",
    "\n",
    "pi = np.pi\n",
    "inf = np.inf\n",
    "\n",
    "# Make use of TeX\n",
    "rc('text',usetex=True)\n",
    "\n",
    "# Change all fonts to 'Computer Modern'\n",
    "rc('font',**{'family':'serif','serif':['Computer Modern']})"
   ]
  },
  {
   "cell_type": "code",
   "execution_count": 2,
   "metadata": {},
   "outputs": [],
   "source": [
    "# Constants\n",
    "G = const.G.to('pc3 / (M_sun s2)').value\n",
    "c = const.c.to('pc/s').value\n",
    "#G = const.G.to('m3 / (kg s2)').value\n",
    "#c = const.c.to('m/s').value\n",
    "\n",
    "H0 = 100 * (u.km/u.s)/u.Mpc\n",
    "H0 = H0.to('s-1').value\n",
    "\n",
    "pc_to_m = 3.08567758e16\n",
    "\n",
    "# Creating the spherical distance bins\n",
    "nrbins = 100\n",
    "rmin = 0.03 # in Mpc\n",
    "rmax = 3. # in Mpc\n",
    "\n",
    "rbins = 10.**np.linspace(np.log10(rmin), np.log10(rmax), nrbins)\n",
    "dr = np.diff(rbins)\n",
    "rcenters = rbins[0:-1]+0.5*dr\n",
    "\n",
    "rbins, dr, rcenters = [rbins*1e6, dr*1e6, rcenters*1e6] # Convert Mpc to pc"
   ]
  },
  {
   "cell_type": "code",
   "execution_count": 3,
   "metadata": {},
   "outputs": [],
   "source": [
    "# Conversion from baryonic to apparent DM distribution \n",
    "def calc_Md(Mb_r, r):\n",
    "\n",
    "    H = H0 #* np.sqrt(O_matter*(1+z)**3 + O_lambda)\n",
    "    Cd = (c * H) / (G * 6)\n",
    "    Md_r = (Cd * np.gradient(Mb_r * r, r))**0.5 * r\n",
    "    gd_r = G * Md_r / r**2. * pc_to_m # in m/s^2\n",
    "    \n",
    "    return Md_r, gd_r\n",
    "\n",
    "def gobs_verlinde(gbar):\n",
    "    gobs = gbar + np.sqrt((c*H0)/6) * np.sqrt(gbar)\n",
    "    return gobs\n",
    "\n",
    "def gobs_mond(gbar, g0=1.2e-10):\n",
    "    gobs = gbar / (1 - np.exp( -np.sqrt(gbar/g0) ))\n",
    "    return gobs"
   ]
  },
  {
   "cell_type": "code",
   "execution_count": 4,
   "metadata": {},
   "outputs": [],
   "source": [
    "\n",
    "# Mb_r = np.ones(len(rcenters)) # Point mass\n",
    "rho_c = 1 #Msun/pc**3.\n",
    "\n",
    "Mb_const = 4./3. * pi * rcenters**3. * rho_c\n",
    "Mb_point = rho_c * 1e14\n",
    "\n",
    "gb_const = G * Mb_const/rcenters**2. * pc_to_m # in m/s^2\n",
    "gb_point = G * Mb_point/rcenters**2. * pc_to_m # in m/s^2\n",
    "\n",
    "\n",
    "Md_const, gd_const = calc_Md(Mb_const, rcenters)\n",
    "gtot_const = (gb_const + gd_const)\n",
    "\n",
    "Md_point, gd_point = calc_Md(Mb_point, rcenters)\n",
    "gtot_point = (gb_point + gd_point)\n",
    "\n"
   ]
  },
  {
   "cell_type": "code",
   "execution_count": 5,
   "metadata": {},
   "outputs": [
    {
     "data": {
      "text/plain": [
       "<matplotlib.legend.Legend at 0x7f7c88e19e80>"
      ]
     },
     "execution_count": 5,
     "metadata": {},
     "output_type": "execute_result"
    },
    {
     "name": "stderr",
     "output_type": "stream",
     "text": [
      "/Users/users/brouwer/.conda/envs/brouwer/lib/python3.5/site-packages/matplotlib/font_manager.py:1241: UserWarning: findfont: Font family ['serif'] not found. Falling back to DejaVu Sans.\n",
      "  (prop.get_family(), self.defaultFamily[fontext]))\n"
     ]
    },
    {
     "data": {
      "image/png": "[encoded data removed]",
      "text/plain": [
       "<Figure size 432x288 with 1 Axes>"
      ]
     },
     "metadata": {
      "needs_background": "light"
     },
     "output_type": "display_data"
    }
   ],
   "source": [
    "gb_uni = np.logspace(-15, -8, 50)\n",
    "gtot_verlinde = gobs_verlinde(gb_uni)\n",
    "gtot_mond = gobs_mond(gb_uni)\n",
    "\n",
    "plt.plot(gb_point, gtot_point, label=r'$g_{\\rm point}$')\n",
    "plt.plot(gb_point, gb_point, label=r'$g_{\\rm uni}$')\n",
    "plt.plot(gb_uni, gtot_mond, label=r'$g_{\\rm Verlinde}$')\n",
    "\n",
    "#plt.plot(gb_uni, gb_uni, label=r'$g_{\\rm uni}$')\n",
    "\n",
    "plt.xscale('log')\n",
    "plt.yscale('log')\n",
    "#plt.ylim(1e-12, 1e-6)\n",
    "\n",
    "plt.legend()\n"
   ]
  },
  {
   "cell_type": "code",
   "execution_count": 6,
   "metadata": {},
   "outputs": [],
   "source": [
    "## Importing the satellite mass distributions\n",
    "\n",
    "cat = 'mice'\n",
    "\n",
    "# Define offset catalogue\n",
    "if 'kids' in cat:\n",
    "    offset = ''\n",
    "else:\n",
    "    offset = '-offsetZ'\n",
    "\n",
    "# Full directory & name of the satellite distribution file\n",
    "path_satcat = '/data/users/brouwer/Lensing_results/EG_results_Sep19/Plots'\n",
    "satcatname = 'satellite_histogram_%s_isolated%s.fits'%(cat, offset)\n",
    "\n",
    "satcatfile = '%s/%s'%(path_satcat, satcatname)\n",
    "satcat = pyfits.open(satcatfile, memmap=True)[1].data\n",
    "\n",
    "Msat_iso = satcat['Msat_iso']\n",
    "Msat_all = satcat['Msat_all']\n",
    "\n",
    "Mtot_iso = satcat['Mtot_iso']\n",
    "Mtot_all = satcat['Mtot_all']\n",
    "\n",
    "if 'kids' in cat:\n",
    "    Msat = np.array([Msat_iso, Msat_all])\n",
    "    Mtot = np.array([Mtot_iso, Mtot_all])\n",
    "    masknames = ['Isolated', 'All galaxies']\n",
    "else:\n",
    "    Msat_isoff = satcat['Msat_isoff']\n",
    "    Mtot_isoff = satcat['Mtot_isoff']\n",
    "    \n",
    "    Msat = np.array([Msat_iso, Msat_isoff, Msat_all])\n",
    "    Mtot = np.array([Mtot_iso, Mtot_isoff, Mtot_all])\n",
    "    masknames = ['Isolated', 'Isolated, offset', 'All galaxies']\n"
   ]
  },
  {
   "cell_type": "code",
   "execution_count": 8,
   "metadata": {},
   "outputs": [
    {
     "data": {
      "text/plain": [
       "<matplotlib.legend.Legend at 0x7f7cc0a979e8>"
      ]
     },
     "execution_count": 8,
     "metadata": {},
     "output_type": "execute_result"
    },
    {
     "data": {
      "image/png": "[encoded data removed]",
      "text/plain": [
       "<Figure size 432x288 with 1 Axes>"
      ]
     },
     "metadata": {
      "needs_background": "light"
     },
     "output_type": "display_data"
    }
   ],
   "source": [
    "\n",
    "for m in range(len(masknames)):\n",
    "\n",
    "    plt.plot(rcenters, Mtot[m], label=masknames[m])\n",
    "\n",
    "xlabel = r'Radius r (pc/h)'\n",
    "ylabel = r'Stellar mass $M_*$ of satellite galaxies'\n",
    "plt.xlabel(xlabel, fontsize=16)\n",
    "plt.ylabel(ylabel, fontsize=16)\n",
    "    \n",
    "plt.xscale('log')\n",
    "plt.yscale('log')\n",
    "\n",
    "plt.legend()\n"
   ]
  },
  {
   "cell_type": "code",
   "execution_count": 9,
   "metadata": {},
   "outputs": [],
   "source": [
    "# Isolated galaxies\n",
    "Mb_iso = Mtot_iso\n",
    "gb_iso = G * Mb_iso/rcenters**2. * pc_to_m\n",
    "\n",
    "Md_iso, gd_iso = calc_Md(Mb_iso, rcenters)\n",
    "gtot_iso = (gb_iso + gd_iso)\n",
    "\n",
    "# All galaxies\n",
    "Mb_all = Mtot_all\n",
    "gb_all = G * Mb_all/rcenters**2. * pc_to_m\n",
    "\n",
    "Md_all, gd_all = calc_Md(Mb_all, rcenters)\n",
    "gtot_all = (gb_all + gd_all)\n",
    "\n",
    "if 'kids' not in cat:\n",
    "    # Offset isolated galaxies\n",
    "    Mb_isoff = Mtot_isoff\n",
    "    gb_isoff = G * Mb_isoff/rcenters**2. * pc_to_m\n",
    "\n",
    "    Md_isoff, gd_isoff = calc_Md(Mb_isoff, rcenters)\n",
    "    gtot_isoff = (gb_isoff + gd_isoff)"
   ]
  },
  {
   "cell_type": "code",
   "execution_count": 10,
   "metadata": {
    "scrolled": true
   },
   "outputs": [
    {
     "data": {
      "image/png": "[encoded data removed]",
      "text/plain": [
       "<Figure size 432x288 with 1 Axes>"
      ]
     },
     "metadata": {
      "needs_background": "light"
     },
     "output_type": "display_data"
    },
    {
     "data": {
      "text/plain": [
       "<Figure size 432x288 with 0 Axes>"
      ]
     },
     "metadata": {},
     "output_type": "display_data"
    }
   ],
   "source": [
    "plt.plot(gb_point, gtot_iso, label=r'$g_{\\rm tot, iso}$')\n",
    "plt.plot(gb_point, gtot_isoff, label=r'$g_{\\rm tot, offset}$')\n",
    "plt.plot(gb_point, gtot_all, label=r'$g_{\\rm tot, all}$')\n",
    "\n",
    "#plt.plot(gb_satiso, gb_satiso, label=r'$g_{\\rm b, iso}$')\n",
    "#plt.plot(gb_satisoff, gb_satisoff, label=r'$g_{\\rm b, offset}$')\n",
    "\n",
    "#plt.plot(gb_const, gtot_const, label=r'$g_{\\rm const}$')\n",
    "#plt.plot(gb_point, gtot_point, label=r'$g_{\\rm point}$')\n",
    "\n",
    "plt.xscale('log')\n",
    "plt.yscale('log')\n",
    "#plt.ylim(1e-12, 1e-6)\n",
    "\n",
    "plt.legend()\n",
    "\n",
    "plt.show()\n",
    "plt.clf()"
   ]
  },
  {
   "cell_type": "code",
   "execution_count": null,
   "metadata": {},
   "outputs": [],
   "source": []
  },
  {
   "cell_type": "code",
   "execution_count": null,
   "metadata": {},
   "outputs": [],
   "source": []
  },
  {
   "cell_type": "code",
   "execution_count": null,
   "metadata": {},
   "outputs": [],
   "source": []
  }
 ],
 "metadata": {
  "kernelspec": {
   "display_name": "Python 3",
   "language": "python",
   "name": "python3"
  },
  "language_info": {
   "codemirror_mode": {
    "name": "ipython",
    "version": 3
   },
   "file_extension": ".py",
   "mimetype": "text/x-python",
   "name": "python",
   "nbconvert_exporter": "python",
   "pygments_lexer": "ipython3",
   "version": "3.5.2"
  }
 },
 "nbformat": 4,
 "nbformat_minor": 2
}
